{
  "nbformat": 4,
  "nbformat_minor": 0,
  "metadata": {
    "colab": {
      "name": "Basic Programs.ipynb",
      "provenance": []
    },
    "kernelspec": {
      "name": "python3",
      "display_name": "Python 3"
    },
    "language_info": {
      "name": "python"
    }
  },
  "cells": [
    {
      "cell_type": "code",
      "metadata": {
        "colab": {
          "base_uri": "https://localhost:8080/"
        },
        "id": "EbBggVCQUGxD",
        "outputId": "93f714c4-57e3-43ec-bef2-cdeca7711dbd"
      },
      "source": [
        "a=2\n",
        "b=5\n",
        "a,b=b,a\n",
        "a"
      ],
      "execution_count": null,
      "outputs": [
        {
          "output_type": "execute_result",
          "data": {
            "text/plain": [
              "5"
            ]
          },
          "metadata": {
            "tags": []
          },
          "execution_count": 1
        }
      ]
    },
    {
      "cell_type": "code",
      "metadata": {
        "colab": {
          "base_uri": "https://localhost:8080/"
        },
        "id": "83uie6otUIQ7",
        "outputId": "f7abd39a-72dd-4a72-bdf5-71f58d550be9"
      },
      "source": [
        "for i in range(10):\n",
        "    print(i)"
      ],
      "execution_count": null,
      "outputs": [
        {
          "output_type": "stream",
          "text": [
            "0\n",
            "1\n",
            "2\n",
            "3\n",
            "4\n",
            "5\n",
            "6\n",
            "7\n",
            "8\n",
            "9\n"
          ],
          "name": "stdout"
        }
      ]
    },
    {
      "cell_type": "code",
      "metadata": {
        "colab": {
          "base_uri": "https://localhost:8080/"
        },
        "id": "3uCgkMPSUX5v",
        "outputId": "7087a9e9-e3c9-4de7-e4d6-30b2d16d395f"
      },
      "source": [
        "k=10\n",
        "while(k<=20):\n",
        "     print(k) \n",
        "     k=k+1"
      ],
      "execution_count": null,
      "outputs": [
        {
          "output_type": "stream",
          "text": [
            "10\n",
            "11\n",
            "12\n",
            "13\n",
            "14\n",
            "15\n",
            "16\n",
            "17\n",
            "18\n",
            "19\n",
            "20\n"
          ],
          "name": "stdout"
        }
      ]
    },
    {
      "cell_type": "code",
      "metadata": {
        "colab": {
          "base_uri": "https://localhost:8080/"
        },
        "id": "hZqjkAy8UbGP",
        "outputId": "80731a95-bf31-4b18-be2f-e25991038f1c"
      },
      "source": [
        "import random\n",
        "random.randrange(1,10)"
      ],
      "execution_count": null,
      "outputs": [
        {
          "output_type": "execute_result",
          "data": {
            "text/plain": [
              "7"
            ]
          },
          "metadata": {
            "tags": []
          },
          "execution_count": 6
        }
      ]
    },
    {
      "cell_type": "code",
      "metadata": {
        "colab": {
          "base_uri": "https://localhost:8080/"
        },
        "id": "DcxDv212UfHd",
        "outputId": "bf4c48a2-2b35-4781-ce16-b18b1ec8ae38"
      },
      "source": [
        "random.random()"
      ],
      "execution_count": null,
      "outputs": [
        {
          "output_type": "execute_result",
          "data": {
            "text/plain": [
              "0.5398624563469562"
            ]
          },
          "metadata": {
            "tags": []
          },
          "execution_count": 7
        }
      ]
    },
    {
      "cell_type": "code",
      "metadata": {
        "colab": {
          "base_uri": "https://localhost:8080/"
        },
        "id": "74eVN5TeUjNV",
        "outputId": "8a99e6f5-e4bd-4b39-9ff6-982a755a9f23"
      },
      "source": [
        "random.randint(1,5)"
      ],
      "execution_count": null,
      "outputs": [
        {
          "output_type": "execute_result",
          "data": {
            "text/plain": [
              "5"
            ]
          },
          "metadata": {
            "tags": []
          },
          "execution_count": 8
        }
      ]
    },
    {
      "cell_type": "code",
      "metadata": {
        "colab": {
          "base_uri": "https://localhost:8080/"
        },
        "id": "7e9YkK7QUmkf",
        "outputId": "c5c97339-edcd-4581-b885-c0b7e967f2ef"
      },
      "source": [
        "L=[]\n",
        "L.append(2)\n",
        "\n",
        "L"
      ],
      "execution_count": null,
      "outputs": [
        {
          "output_type": "execute_result",
          "data": {
            "text/plain": [
              "[2]"
            ]
          },
          "metadata": {
            "tags": []
          },
          "execution_count": 9
        }
      ]
    },
    {
      "cell_type": "code",
      "metadata": {
        "id": "hHy2x6ONUrBv"
      },
      "source": [
        "L.append(3)\n",
        "L.append(0)\n",
        "L.reverse()"
      ],
      "execution_count": null,
      "outputs": []
    },
    {
      "cell_type": "code",
      "metadata": {
        "colab": {
          "base_uri": "https://localhost:8080/"
        },
        "id": "8CjnsHAIUtx_",
        "outputId": "ef333a49-696c-4ce2-c287-a1b363f822bf"
      },
      "source": [
        "L"
      ],
      "execution_count": null,
      "outputs": [
        {
          "output_type": "execute_result",
          "data": {
            "text/plain": [
              "[0, 3, 2]"
            ]
          },
          "metadata": {
            "tags": []
          },
          "execution_count": 12
        }
      ]
    },
    {
      "cell_type": "code",
      "metadata": {
        "colab": {
          "base_uri": "https://localhost:8080/"
        },
        "id": "b2IIOF3IUy1c",
        "outputId": "6c7ea01d-15cb-47cc-9e96-e00a1e45468b"
      },
      "source": [
        "L.sort()\n",
        "L"
      ],
      "execution_count": null,
      "outputs": [
        {
          "output_type": "execute_result",
          "data": {
            "text/plain": [
              "[0, 2, 3]"
            ]
          },
          "metadata": {
            "tags": []
          },
          "execution_count": 13
        }
      ]
    },
    {
      "cell_type": "code",
      "metadata": {
        "colab": {
          "base_uri": "https://localhost:8080/",
          "height": 232
        },
        "id": "hGp6Qa4eU588",
        "outputId": "a5c43e75-0ad5-44e9-d8cc-6423afc0bf8a"
      },
      "source": [
        "L.len()\n",
        "L.insert(0, 9)\n",
        "L.pop(0)\n",
        "L.min()\n",
        "L.max()\n",
        "L.sum()"
      ],
      "execution_count": null,
      "outputs": [
        {
          "output_type": "error",
          "ename": "AttributeError",
          "evalue": "ignored",
          "traceback": [
            "\u001b[0;31m---------------------------------------------------------------------------\u001b[0m",
            "\u001b[0;31mAttributeError\u001b[0m                            Traceback (most recent call last)",
            "\u001b[0;32m<ipython-input-14-97eebecb7da0>\u001b[0m in \u001b[0;36m<module>\u001b[0;34m()\u001b[0m\n\u001b[0;32m----> 1\u001b[0;31m \u001b[0mL\u001b[0m\u001b[0;34m.\u001b[0m\u001b[0mlen\u001b[0m\u001b[0;34m(\u001b[0m\u001b[0;34m)\u001b[0m\u001b[0;34m\u001b[0m\u001b[0;34m\u001b[0m\u001b[0m\n\u001b[0m\u001b[1;32m      2\u001b[0m \u001b[0mL\u001b[0m\u001b[0;34m.\u001b[0m\u001b[0minsert\u001b[0m\u001b[0;34m(\u001b[0m\u001b[0;36m0\u001b[0m\u001b[0;34m,\u001b[0m \u001b[0;36m9\u001b[0m\u001b[0;34m)\u001b[0m\u001b[0;34m\u001b[0m\u001b[0;34m\u001b[0m\u001b[0m\n\u001b[1;32m      3\u001b[0m \u001b[0mL\u001b[0m\u001b[0;34m.\u001b[0m\u001b[0mpop\u001b[0m\u001b[0;34m(\u001b[0m\u001b[0;36m0\u001b[0m\u001b[0;34m)\u001b[0m\u001b[0;34m\u001b[0m\u001b[0;34m\u001b[0m\u001b[0m\n\u001b[1;32m      4\u001b[0m \u001b[0mL\u001b[0m\u001b[0;34m.\u001b[0m\u001b[0mmin\u001b[0m\u001b[0;34m(\u001b[0m\u001b[0;34m)\u001b[0m\u001b[0;34m\u001b[0m\u001b[0;34m\u001b[0m\u001b[0m\n\u001b[1;32m      5\u001b[0m \u001b[0mL\u001b[0m\u001b[0;34m.\u001b[0m\u001b[0mmax\u001b[0m\u001b[0;34m(\u001b[0m\u001b[0;34m)\u001b[0m\u001b[0;34m\u001b[0m\u001b[0;34m\u001b[0m\u001b[0m\n",
            "\u001b[0;31mAttributeError\u001b[0m: 'list' object has no attribute 'len'"
          ]
        }
      ]
    },
    {
      "cell_type": "code",
      "metadata": {
        "colab": {
          "base_uri": "https://localhost:8080/"
        },
        "id": "UACMWe2eU__f",
        "outputId": "473a7546-ec1c-4b6f-deff-a77b54f6cda1"
      },
      "source": [
        "del L[-1]\n",
        "L"
      ],
      "execution_count": null,
      "outputs": [
        {
          "output_type": "execute_result",
          "data": {
            "text/plain": [
              "[0, 2]"
            ]
          },
          "metadata": {
            "tags": []
          },
          "execution_count": 15
        }
      ]
    },
    {
      "cell_type": "code",
      "metadata": {
        "colab": {
          "base_uri": "https://localhost:8080/"
        },
        "id": "mBAN5kD0VLxd",
        "outputId": "c098caed-e60f-4d47-d968-c6800eba1b2d"
      },
      "source": [
        "cubes=[]\n",
        "for x in [1,2,3,4,5]:\n",
        "    cubes.append(x**3)\n",
        "print(cubes)\n",
        "\n",
        "\n",
        "cubes = [x**3 for x in [1,2,3,4,5,6]]\n",
        "cubes\n",
        "\n",
        "\n",
        "n= int(input(\"Enter any Number\"))\n",
        "Number=[]\n",
        "for i in range(n):\n",
        "    Num= int(input(\"Enter List of Numbers\"))\n",
        "    Number.append(Num)\n",
        "print(Number)\n",
        "N=Number\n",
        "for i in N:\n",
        "    if i%2!=0:\n",
        "        Number.remove(i)\n",
        "print(Number)\n",
        "\n",
        "n= int(input(\"Enter any Number\"))\n",
        "Number=[]\n",
        "for i in range(n):\n",
        "    Num= int(input(\"Enter List of Numbers\"))\n",
        "    Number.append(Num)\n",
        "    \n",
        "print(Number)\n",
        "N=Number\n",
        "for i in N:\n",
        "    if i%2!=0:\n",
        "        Number.remove(i)\n",
        "print(Number)"
      ],
      "execution_count": null,
      "outputs": [
        {
          "output_type": "stream",
          "text": [
            "[1, 8, 27, 64, 125]\n",
            "Enter any Number8\n",
            "Enter List of Numbers2\n",
            "Enter List of Numbers5\n",
            "Enter List of Numbers4\n",
            "Enter List of Numbers6\n",
            "Enter List of Numbers8\n",
            "Enter List of Numbers7\n",
            "Enter List of Numbers96\n",
            "Enter List of Numbers56\n",
            "[2, 5, 4, 6, 8, 7, 96, 56]\n",
            "[2, 4, 6, 8, 96, 56]\n",
            "Enter any Number2\n",
            "Enter List of Numbers5\n",
            "Enter List of Numbers5\n",
            "[5, 5]\n",
            "[5]\n"
          ],
          "name": "stdout"
        }
      ]
    },
    {
      "cell_type": "code",
      "metadata": {
        "colab": {
          "base_uri": "https://localhost:8080/"
        },
        "id": "-I9oStPHVpyG",
        "outputId": "4b6e757f-a711-415f-bdc3-949d5580ec82"
      },
      "source": [
        "d={'a':25, 'b':35, 'c':56}\n",
        "d"
      ],
      "execution_count": null,
      "outputs": [
        {
          "output_type": "execute_result",
          "data": {
            "text/plain": [
              "{'a': 25, 'b': 35, 'c': 56}"
            ]
          },
          "metadata": {
            "tags": []
          },
          "execution_count": 18
        }
      ]
    },
    {
      "cell_type": "code",
      "metadata": {
        "colab": {
          "base_uri": "https://localhost:8080/"
        },
        "id": "eRrw6nqMVsLj",
        "outputId": "14276728-69b1-4a00-835d-0db24064c08a"
      },
      "source": [
        "d['a']"
      ],
      "execution_count": null,
      "outputs": [
        {
          "output_type": "execute_result",
          "data": {
            "text/plain": [
              "25"
            ]
          },
          "metadata": {
            "tags": []
          },
          "execution_count": 19
        }
      ]
    },
    {
      "cell_type": "code",
      "metadata": {
        "id": "AxZ6_sJwVxXR"
      },
      "source": [
        "del d['a']"
      ],
      "execution_count": null,
      "outputs": []
    },
    {
      "cell_type": "code",
      "metadata": {
        "colab": {
          "base_uri": "https://localhost:8080/"
        },
        "id": "79weXnQFV0Yl",
        "outputId": "f0481780-00ae-4540-823a-5fbef52eb4ad"
      },
      "source": [
        "d"
      ],
      "execution_count": null,
      "outputs": [
        {
          "output_type": "execute_result",
          "data": {
            "text/plain": [
              "{'b': 35, 'c': 56}"
            ]
          },
          "metadata": {
            "tags": []
          },
          "execution_count": 21
        }
      ]
    },
    {
      "cell_type": "code",
      "metadata": {
        "colab": {
          "base_uri": "https://localhost:8080/"
        },
        "id": "zFjd119KV4Qb",
        "outputId": "403e084d-4fcc-4056-a93c-c5facb10552d"
      },
      "source": [
        "d.keys()"
      ],
      "execution_count": null,
      "outputs": [
        {
          "output_type": "execute_result",
          "data": {
            "text/plain": [
              "dict_keys(['b', 'c'])"
            ]
          },
          "metadata": {
            "tags": []
          },
          "execution_count": 22
        }
      ]
    },
    {
      "cell_type": "code",
      "metadata": {
        "colab": {
          "base_uri": "https://localhost:8080/"
        },
        "id": "tOxLE3gkV-W7",
        "outputId": "35d06e9f-d0cb-4a6f-f30b-3db9156d6b5b"
      },
      "source": [
        "d.values()"
      ],
      "execution_count": null,
      "outputs": [
        {
          "output_type": "execute_result",
          "data": {
            "text/plain": [
              "dict_values([35, 56])"
            ]
          },
          "metadata": {
            "tags": []
          },
          "execution_count": 23
        }
      ]
    },
    {
      "cell_type": "code",
      "metadata": {
        "id": "aHkvj2ZOWB7O"
      },
      "source": [
        "import  matplotlib.pyplot as plt"
      ],
      "execution_count": null,
      "outputs": []
    },
    {
      "cell_type": "code",
      "metadata": {
        "colab": {
          "base_uri": "https://localhost:8080/",
          "height": 265
        },
        "id": "3YQ7gq_cWGeB",
        "outputId": "256d240c-3af1-4e1b-e487-7b9ac54894c3"
      },
      "source": [
        "plt.plot([1,2,3,4,5,6])\n",
        "plt.show()"
      ],
      "execution_count": null,
      "outputs": [
        {
          "output_type": "display_data",
          "data": {
            "image/png": "[encoded data removed]",
            "text/plain": [
              "<Figure size 432x288 with 1 Axes>"
            ]
          },
          "metadata": {
            "tags": [],
            "needs_background": "light"
          }
        }
      ]
    },
    {
      "cell_type": "code",
      "metadata": {
        "colab": {
          "base_uri": "https://localhost:8080/",
          "height": 303
        },
        "id": "UbKe6iBzWQ7U",
        "outputId": "a15c3130-1898-4b4a-d35e-a6557ded99cf"
      },
      "source": [
        "plt.grid(True)\n",
        "plt.title('squares of the numbers')\n",
        "plt.xlabel('The Numbers', fontsize=18, color='red')\n",
        "plt.ylabel('The squares',fontsize=18, color='red')\n",
        "plt.plot([1,2,3,4,5], [1,4,9,16,25], 'r^-', linewidth=3.0)\n",
        "plt.show()"
      ],
      "execution_count": null,
      "outputs": [
        {
          "output_type": "display_data",
          "data": {
            "image/png": "[encoded data removed]",
            "text/plain": [
              "<Figure size 432x288 with 1 Axes>"
            ]
          },
          "metadata": {
            "tags": [],
            "needs_background": "light"
          }
        }
      ]
    }
  ]
}